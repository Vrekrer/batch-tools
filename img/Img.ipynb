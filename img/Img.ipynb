{
 "metadata": {
  "name": "",
  "signature": "sha256:7d5a418d0677a910177af42e41abc0988ffb5c20e908caaa639e6a639784fb1a"
 },
 "nbformat": 3,
 "nbformat_minor": 0,
 "worksheets": [
  {
   "cells": [
    {
     "cell_type": "code",
     "collapsed": false,
     "input": [
      "%pylab"
     ],
     "language": "python",
     "metadata": {},
     "outputs": [
      {
       "output_type": "stream",
       "stream": "stdout",
       "text": [
        "Using matplotlib backend: TkAgg\n",
        "Populating the interactive namespace from numpy and matplotlib\n"
       ]
      }
     ],
     "prompt_number": 1
    },
    {
     "cell_type": "code",
     "collapsed": false,
     "input": [
      "%qtconsole"
     ],
     "language": "python",
     "metadata": {},
     "outputs": [],
     "prompt_number": 2
    },
    {
     "cell_type": "code",
     "collapsed": false,
     "input": [
      "PP = load('PP.npy')"
     ],
     "language": "python",
     "metadata": {},
     "outputs": [],
     "prompt_number": 4
    },
    {
     "cell_type": "code",
     "collapsed": false,
     "input": [
      "import matplotlib.animation\n",
      "\n",
      "indices = [i for i in ndindex(*PP.shape)]\n",
      "random.shuffle(indices)\n",
      "def figg(n):\n",
      "    return figure(n,(2,2))\n",
      "def animate1(i):\n",
      "    ff.clear()\n",
      "    Pv = PP*nan\n",
      "    for index in indices[:i*133*2]:\n",
      "        Pv[index] = PP[index]\n",
      "    imshow(Pv.T, origin='lower', interpolation='none')\n",
      "    ff.axes[0].get_xaxis().set_visible(False)\n",
      "    ff.axes[0].get_yaxis().set_visible(False)\n",
      "    title('random')\n",
      "    tight_layout()"
     ],
     "language": "python",
     "metadata": {},
     "outputs": [],
     "prompt_number": 5
    },
    {
     "cell_type": "code",
     "collapsed": false,
     "input": [
      "ff = figg(1)\n",
      "ani1 = matplotlib.animation.FuncAnimation(ff, animate1, frames=60)\n",
      "ani1.save('random.gif', writer='imagemagick', fps=20)"
     ],
     "language": "python",
     "metadata": {},
     "outputs": [
      {
       "output_type": "stream",
       "stream": "stderr",
       "text": [
        "/usr/lib/python2.7/dist-packages/numpy/ma/core.py:3847: UserWarning: Warning: converting a masked element to nan.\n",
        "  warnings.warn(\"Warning: converting a masked element to nan.\")\n"
       ]
      }
     ],
     "prompt_number": 6
    },
    {
     "cell_type": "code",
     "collapsed": false,
     "input": [
      "indices0 = [i for i in ndindex(*PP.shape)]\n",
      "def animate0(i):\n",
      "    f0.clear()\n",
      "    Pv = PP*nan\n",
      "    for index in indices0[:i*133*2]:\n",
      "        Pv[index] = PP[index]\n",
      "    imshow(Pv.T, origin='lower', interpolation='none')\n",
      "    f0.axes[0].get_xaxis().set_visible(False)\n",
      "    f0.axes[0].get_yaxis().set_visible(False)\n",
      "    title('usual')\n",
      "    tight_layout()"
     ],
     "language": "python",
     "metadata": {},
     "outputs": [],
     "prompt_number": 7
    },
    {
     "cell_type": "code",
     "collapsed": false,
     "input": [
      "f0 = figg(0)\n",
      "ani0 = matplotlib.animation.FuncAnimation(f0, animate0, frames=60)\n",
      "ani0.save('normal.gif', writer='imagemagick', fps=20)"
     ],
     "language": "python",
     "metadata": {},
     "outputs": [],
     "prompt_number": 8
    },
    {
     "cell_type": "code",
     "collapsed": false,
     "input": [
      "from scipy.interpolate import griddata as gd\n",
      "def animate2(i):\n",
      "    f2.clear()\n",
      "    Pv = PP*nan\n",
      "    for index in indices[:20]:\n",
      "        Pv[index] = PP[index]\n",
      "    for index in indices[:i*133*2]:\n",
      "        Pv[index] = PP[index]\n",
      "        \n",
      "    X,Y = meshgrid(range(Pv.shape[1]), range(Pv.shape[0]))\n",
      "    mask = ~isnan(Pv)\n",
      "    pts = array([X[mask],Y[mask]]).transpose()\n",
      "    values = Pv[mask]\n",
      "    Pv = gd(pts, values, (X, Y), method = 'linear')\n",
      "\n",
      "    imshow(Pv.T, origin='lower', interpolation='none')\n",
      "    f2.axes[0].get_xaxis().set_visible(False)\n",
      "    f2.axes[0].get_yaxis().set_visible(False)\n",
      "    title('interpolated')\n",
      "    tight_layout()\n"
     ],
     "language": "python",
     "metadata": {},
     "outputs": [],
     "prompt_number": 9
    },
    {
     "cell_type": "code",
     "collapsed": false,
     "input": [
      "f2 = figg(2)\n",
      "ani2 = matplotlib.animation.FuncAnimation(f2, animate2, frames=60)\n",
      "ani2.save('interpolated.gif', writer='imagemagick', fps=20)"
     ],
     "language": "python",
     "metadata": {},
     "outputs": [],
     "prompt_number": 10
    },
    {
     "cell_type": "code",
     "collapsed": false,
     "input": [],
     "language": "python",
     "metadata": {},
     "outputs": []
    }
   ],
   "metadata": {}
  }
 ]
}